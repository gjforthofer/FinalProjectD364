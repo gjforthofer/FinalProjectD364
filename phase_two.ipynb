{
 "cells": [
  {
   "cell_type": "markdown",
   "metadata": {},
   "source": [
    "Purpose\n",
    "The WNBA (Women’s National Basketball League) is a $60 million-dollar professional sports organization boasting twelve competitive teams. Presently, public sporting websites fail to include advanced statistical analysis on its players, which would allow for MVP assertions to be made on a weekly basis. This topic will allow owners, investors, and fans to determine which players are performing the best (providing insights into future trades, salary increases/decreases, etc.).  The team’s final Data364 project will extract data from the Basketball Reference website (single source repeatedly) for the fourteen-week WNBA regular season and determine the leading player for any given time period based on WS/40 (win shares per 40 minutes of game play), PER (player efficiency rating), True Shooting Percentage, and VORP (Value Over Replacement Player). WS/40 , PER, and VORP will be calculated during the data transformation process and graphed using Pandas in Python. The data will then be stored in a player database appropriate for later analytical needs. \n",
    "\n",
    "Possible Data Sources: \n",
    "The team considered utilizing data from the Men’s Collegiate Lacrosse Association (Stats - MCLA), ESPN WNBA Postseason Stat Leaders (2023 WNBA Stat Leaders | ESPN), and WNBA Stats (WNBA Stats | WNBA). The team identified a need within the Women’s National Basketball League for advanced statistical analysis (WS/40, PER, True Shooting Percentage, and VORP) to support owners, investors and the fanbase. ESPN and the WNBA websites include terms and services agreements that prohibit automated web scraping. Basketball Reference’s SR and Data Use web page similarly prohibits the “use [of] any automated means to access or use the Site” (SR and Data Use | Sports-Reference.com). However, it is widely known to allow public users limited automated web scraping without incident. \n",
    "\n",
    "Conclusion: \n",
    "During Phase 2, the use of Jupyter Notebooks is required with the Python extension. Downloading this software in-class with instructor supervisor is advantageous to avoiding difficulties later on with this phase of the project. Additionally, when performing analysis it is important to exhaust all possibilities (edge cases) when performing calculations and creating dataframes. The team opted to delete all columns with NULL data. \n",
    "Purpose\n",
    "The WNBA (Women’s National Basketball League) is a $60 million-dollar professional sports organization boasting twelve competitive teams. Presently, public sporting websites fail to include advanced statistical analysis on its players, which would allow for MVP assertions to be made on a weekly basis. This topic will allow owners, investors, and fans to determine which players are performing the best (providing insights into future trades, salary increases/decreases, etc.).  The team’s final Data364 project will extract data from the Basketball Reference website (single source repeatedly) for the fourteen-week WNBA regular season and determine the leading player for any given time period based on WS/40 (win shares per 40 minutes of game play), PER (player efficiency rating), True Shooting Percentage, and VORP (Value Over Replacement Player). WS/40 , PER, and VORP will be calculated during the data transformation process and graphed using Pandas in Python. The data will then be stored in a player database appropriate for later analytical needs. \n",
    "\n",
    "Possible Data Sources: \n",
    "The team considered utilizing data from the Men’s Collegiate Lacrosse Association (Stats - MCLA), ESPN WNBA Postseason Stat Leaders (2023 WNBA Stat Leaders | ESPN), and WNBA Stats (WNBA Stats | WNBA). The team identified a need within the Women’s National Basketball League for advanced statistical analysis (WS/40, PER, True Shooting Percentage, and VORP) to support owners, investors and the fanbase. ESPN and the WNBA websites include terms and services agreements that prohibit automated web scraping. Basketball Reference’s SR and Data Use web page similarly prohibits the “use [of] any automated means to access or use the Site” (SR and Data Use | Sports-Reference.com). However, it is widely known to allow public users limited automated web scraping without incident. \n",
    "\n",
    "Conclusion: \n",
    "During Phase 2, the use of Jupyter Notebooks is required with the Python extension. Downloading this software in-class with instructor supervisor is advantageous to avoiding difficulties later on with this phase of the project. Additionally, when performing analysis it is important to exhaust all possibilities (edge cases) when performing calculations and creating dataframes. The team opted to delete all columns with NULL data. \n"
   ]
  },
  {
   "cell_type": "code",
   "execution_count": 1,
   "metadata": {},
   "outputs": [],
   "source": [
    "import pandas as pd\n",
    "\n",
    "# Webscraping\n",
    "\n",
    "# Store the data into pandas dataframe\n",
    "ptables = pd.read_html(\"https://www.basketball-reference.com/wnba/years/2023_advanced.html\")\n",
    "btables = pd.read_html(\"https://www.basketball-reference.com/wnba/years/2023_totals.html\")\n",
    "ttables = pd.read_html(\"https://www.basketball-reference.com/wnba/years/2023.html#all_totals-team-opponent\")\n",
    "\n",
    "# Retain pertinent tables\n",
    "playersAdv = ptables[0]\n",
    "playersBasic = btables[0]\n",
    "teamsAdvStats = ttables[7]\n",
    "teamsOppStats = ttables[6]\n",
    "teamsBasic = ttables[5]\n",
    "\n",
    "# Data Cleaning (delete NULL columns)\n",
    "playersAdv = playersAdv.dropna(axis=1, how='all')\n",
    "playersBasic = playersBasic.dropna(axis=1, how='all')\n",
    "teamsAdvStats = teamsAdvStats.dropna(axis=1, how='all')\n",
    "teamsOppStats = teamsOppStats.dropna(axis=1, how='all')\n",
    "teamsBasic = teamsOppStats.dropna(axis=1, how='all')"
   ]
  }
 ],
 "metadata": {
  "kernelspec": {
   "display_name": "Python 3",
   "language": "python",
   "name": "python3"
  },
  "language_info": {
   "codemirror_mode": {
    "name": "ipython",
    "version": 3
   },
   "file_extension": ".py",
   "mimetype": "text/x-python",
   "name": "python",
   "nbconvert_exporter": "python",
   "pygments_lexer": "ipython3",
   "version": "3.10.12"
  },
  "orig_nbformat": 4
 },
 "nbformat": 4,
 "nbformat_minor": 2
}
